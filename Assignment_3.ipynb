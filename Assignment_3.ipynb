{
 "cells": [
  {
   "cell_type": "markdown",
   "id": "5c649169",
   "metadata": {},
   "source": [
    "# 1. What is the concept of an abstract superclass?"
   ]
  },
  {
   "cell_type": "markdown",
   "id": "2dcd1113",
   "metadata": {},
   "source": [
    "A class is called an Abstract class if it contains one or more abstract methods. An abstract method is a method that is declared, but contains no implementation. Abstract classes may not be instantiated, and its abstract methods must be implemented by its subclasses."
   ]
  },
  {
   "cell_type": "code",
   "execution_count": 7,
   "id": "d0b3f48c",
   "metadata": {},
   "outputs": [
    {
     "name": "stdout",
     "output_type": "stream",
     "text": [
      "area:  800\n"
     ]
    }
   ],
   "source": [
    "import abc\n",
    "\n",
    "class Shape(metaclass=abc.ABCMeta):\n",
    "    @abc.abstractmethod\n",
    "    def area(self):\n",
    "        pass\n",
    "\n",
    "class Rectangle(Shape):\n",
    "    def __init__(self, x,y):\n",
    "        self.l = x\n",
    "        self.b=y\n",
    "    \n",
    "    def area(self):\n",
    "        return self.l*self.b\n",
    "    \n",
    "r = Rectangle(20,40)\n",
    "print ('area: ',r.area())"
   ]
  },
  {
   "cell_type": "markdown",
   "id": "077c3d81",
   "metadata": {},
   "source": [
    "# 2. What happens when a class statement's top level contains a basic assignment statement?"
   ]
  },
  {
   "cell_type": "markdown",
   "id": "2f5a719e",
   "metadata": {},
   "source": [
    " When class statement's top level contains a basic assignment statement, it is considered as class attribute. Change in the value of class attribute will affect all the instances of the class."
   ]
  },
  {
   "cell_type": "code",
   "execution_count": 9,
   "id": "d6d1403b",
   "metadata": {},
   "outputs": [
    {
     "name": "stdout",
     "output_type": "stream",
     "text": [
      "5678\n",
      "2\n",
      "3\n",
      "123\n",
      "123\n"
     ]
    }
   ],
   "source": [
    "class Sample:\n",
    "    some_value = 5678\n",
    "    \n",
    "    def __init__(self, value1):\n",
    "        self.value1 = value1\n",
    "        \n",
    "s = Sample(2)       \n",
    "s1 = Sample(3)\n",
    "\n",
    "print(s.some_value)\n",
    "print(s.value1)\n",
    "print(s1.value1)\n",
    "\n",
    "Sample.some_value = 123\n",
    "print(s.some_value) #observe value is changed for both the objects\n",
    "print(s1.some_value)"
   ]
  },
  {
   "cell_type": "markdown",
   "id": "35527358",
   "metadata": {},
   "source": [
    "# 3. Why does a class need to manually call a superclass's init method?"
   ]
  },
  {
   "cell_type": "markdown",
   "id": "c4cfa02e",
   "metadata": {},
   "source": [
    "By doing so,we can access those methods of the super-class (parent class) which have been overridden in a sub-class (child class) that inherits from it."
   ]
  },
  {
   "cell_type": "markdown",
   "id": "27186a96",
   "metadata": {},
   "source": [
    "# 4. How can you augment, instead of completely replacing, an inherited method?"
   ]
  },
  {
   "cell_type": "markdown",
   "id": "d120d643",
   "metadata": {},
   "source": [
    "The way to do that in Python is by calling to the original version directly, with augmented arguments."
   ]
  },
  {
   "cell_type": "markdown",
   "id": "88123973",
   "metadata": {},
   "source": [
    "# 5. How is the local scope of a class different from that of a function?"
   ]
  },
  {
   "cell_type": "markdown",
   "id": "995f2fd1",
   "metadata": {},
   "source": [
    "In class, if the variable is declared without self then it is accessible within that function only, kinda local variable. However if it declared using self like self.variable_name = 'somevalue', then it is accessible via any object but not via the class name.\n",
    "\n",
    "Whereas, if a variable is declared within a function then it is a local variable and is accessible to that function only."
   ]
  },
  {
   "cell_type": "code",
   "execution_count": null,
   "id": "c3eda54e",
   "metadata": {},
   "outputs": [],
   "source": []
  }
 ],
 "metadata": {
  "kernelspec": {
   "display_name": "Python 3 (ipykernel)",
   "language": "python",
   "name": "python3"
  },
  "language_info": {
   "codemirror_mode": {
    "name": "ipython",
    "version": 3
   },
   "file_extension": ".py",
   "mimetype": "text/x-python",
   "name": "python",
   "nbconvert_exporter": "python",
   "pygments_lexer": "ipython3",
   "version": "3.9.7"
  }
 },
 "nbformat": 4,
 "nbformat_minor": 5
}
