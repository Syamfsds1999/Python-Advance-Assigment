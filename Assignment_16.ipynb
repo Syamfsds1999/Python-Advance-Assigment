{
 "cells": [
  {
   "cell_type": "code",
   "execution_count": null,
   "id": "1c4e20e5",
   "metadata": {},
   "outputs": [],
   "source": [
    "# Q1. What is the benefit of regular expressions?"
   ]
  },
  {
   "cell_type": "markdown",
   "id": "860cf51e",
   "metadata": {},
   "source": [
    "Regular Expressions, also known as regex or regexp, are used to match strings of text such as particular characters, words, or patterns of characters. It means that we can match and extract any string pattern from the text with the help of regular expressions. it helps the programmers to Write less and cleaner code."
   ]
  },
  {
   "cell_type": "code",
   "execution_count": null,
   "id": "634ef636",
   "metadata": {},
   "outputs": [],
   "source": [
    "# Q2. Describe the difference between the effects of \"(ab)c+\" and \"a(bc)+\" Which of these, if any, is the unqualified pattern \"abc+\"?"
   ]
  },
  {
   "cell_type": "markdown",
   "id": "d1ad6eac",
   "metadata": {},
   "source": [
    "Both (ab)c+ and a(bc)+ are valid patterns. the difference between both these patterns is in (ab)c+ ab is group whereas in a(bc)+ bc is a group."
   ]
  },
  {
   "cell_type": "code",
   "execution_count": null,
   "id": "e94b9170",
   "metadata": {},
   "outputs": [],
   "source": [
    "# Q3. How much do you need to use the following sentence while using regular expressions?"
   ]
  },
  {
   "cell_type": "markdown",
   "id": "a03d340c",
   "metadata": {},
   "source": [
    "import re statement always has to be imported before using regular expressions."
   ]
  },
  {
   "cell_type": "code",
   "execution_count": null,
   "id": "106a8fa7",
   "metadata": {},
   "outputs": [],
   "source": [
    "# Q4. Which characters have special significance in square brackets when expressing a range, and under what circumstances?"
   ]
  },
  {
   "cell_type": "markdown",
   "id": "9d05384f",
   "metadata": {},
   "source": [
    "The Characters .,*,?,^,or,(), have a special signiface when used with square brackets. They need not be be explicitly escaped by \\ as in case of pattern texts in a raw string."
   ]
  },
  {
   "cell_type": "code",
   "execution_count": null,
   "id": "4c445734",
   "metadata": {},
   "outputs": [],
   "source": [
    "# Q5. How does compiling a regular-expression object benefit you?"
   ]
  },
  {
   "cell_type": "markdown",
   "id": "d2b16969",
   "metadata": {},
   "source": [
    "We can Combine a regular expression pattern into pattern Objects.Which can be used for pattern matching. it also helps to search a pattern again without rewritting it."
   ]
  },
  {
   "cell_type": "code",
   "execution_count": null,
   "id": "809b952b",
   "metadata": {},
   "outputs": [],
   "source": [
    "# Q6. What are some examples of how to use the match object returned by re.match and re.search?"
   ]
  },
  {
   "cell_type": "markdown",
   "id": "c7370b27",
   "metadata": {},
   "source": [
    "The re.search() and re.match() both are functions of re module in python. These functions are very efficient and fast for searching in strings. The function searches for some substring in a string and returns a match object if found, else it returns none. While re.search() searches for the whole string even if the string contains multi-lines and tries to find a match of the substring in all the lines of string"
   ]
  },
  {
   "cell_type": "code",
   "execution_count": null,
   "id": "2f3b4a2d",
   "metadata": {},
   "outputs": [],
   "source": [
    "# Q7. What is the difference between using a vertical bar (|) as an alteration and using square brackets as a character set?"
   ]
  },
  {
   "cell_type": "markdown",
   "id": "38ed1209",
   "metadata": {},
   "source": [
    "When | us used then patterns searches for or option. i.e <pattern_1>|<pattern_2> means it searches as <pattern_1>or<<pattern_2> in the searched string. the first occurance of matched string will be returned as the Match Object. Using Character set in square Brackets searches for all the character set in the square bracket and if match is found, it returns it"
   ]
  },
  {
   "cell_type": "code",
   "execution_count": null,
   "id": "8d27b6f5",
   "metadata": {},
   "outputs": [],
   "source": [
    "# Q8. In regular-expression search patterns, why is it necessary to use the raw-string indicator (r)? In replacement strings?"
   ]
  },
  {
   "cell_type": "markdown",
   "id": "5f0015aa",
   "metadata": {},
   "source": [
    " Raw Strings are used in the regular-expression search patterns, so that blackslashes donot have to be escaped."
   ]
  },
  {
   "cell_type": "code",
   "execution_count": null,
   "id": "12cefe4c",
   "metadata": {},
   "outputs": [],
   "source": []
  }
 ],
 "metadata": {
  "kernelspec": {
   "display_name": "Python 3 (ipykernel)",
   "language": "python",
   "name": "python3"
  },
  "language_info": {
   "codemirror_mode": {
    "name": "ipython",
    "version": 3
   },
   "file_extension": ".py",
   "mimetype": "text/x-python",
   "name": "python",
   "nbconvert_exporter": "python",
   "pygments_lexer": "ipython3",
   "version": "3.9.7"
  }
 },
 "nbformat": 4,
 "nbformat_minor": 5
}
