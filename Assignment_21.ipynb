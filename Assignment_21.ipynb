{
 "cells": [
  {
   "cell_type": "code",
   "execution_count": 1,
   "id": "4e2daae8",
   "metadata": {},
   "outputs": [],
   "source": [
    "# Q1. What is a probability distribution, exactly? If the values are meant to be random, how can you predict them at all?"
   ]
  },
  {
   "cell_type": "markdown",
   "id": "64fbfa63",
   "metadata": {},
   "source": [
    "A probability distribution describes how a random variable is distributed,it tells us which values a random \n",
    "      variable is most likely to take on and which values are less likely.Based on the previous data and the occurences of the random event, we can predict the outcome in terms of probabilities."
   ]
  },
  {
   "cell_type": "code",
   "execution_count": 3,
   "id": "cd7901fd",
   "metadata": {},
   "outputs": [],
   "source": [
    "# Q2. Is there a distinction between true random numbers and pseudo-random numbers, if there is one? Why are the latter considered “good enough”?"
   ]
  },
  {
   "cell_type": "markdown",
   "id": "2896540b",
   "metadata": {},
   "source": [
    "The difference between true random number(TRN) and pseudo-random number(PRN), is that TRN's are unpredictable \n",
    "       physical values means (like atmospheric noise), and PRN are generated using mathematical algorithms (completely\n",
    "       computer-generated).The PRN's are good enough as they follow a uniform distribution and the seed for generating\n",
    "      PRN is unpredictable and unknown."
   ]
  },
  {
   "cell_type": "code",
   "execution_count": 4,
   "id": "b7ea4002",
   "metadata": {},
   "outputs": [],
   "source": [
    "# Q3. What are the two main factors that influence the behaviour of a \"normal\" probability distribution?"
   ]
  },
  {
   "cell_type": "markdown",
   "id": "f314db60",
   "metadata": {},
   "source": [
    " A normal distribution is determined by two parameters the mean and the variance. A normal distribution with a \n",
    "mean of 0 and a standard deviation of 1 is called a standard normal distribution."
   ]
  },
  {
   "cell_type": "code",
   "execution_count": 5,
   "id": "0edbbcaf",
   "metadata": {},
   "outputs": [],
   "source": [
    "# Q4. Provide a real-life example of a normal distribution"
   ]
  },
  {
   "cell_type": "markdown",
   "id": "6561283e",
   "metadata": {},
   "source": [
    "A rolling of dice is also a good example of normal distribution."
   ]
  },
  {
   "cell_type": "code",
   "execution_count": 6,
   "id": "5d411521",
   "metadata": {},
   "outputs": [],
   "source": [
    "# Q5. In the short term, how can you expect a probability distribution to behave? What do you think will happen as the number of trials grows?"
   ]
  },
  {
   "cell_type": "markdown",
   "id": "24b20641",
   "metadata": {},
   "source": [
    "When trails are less, the variance will large. As the number of trials increase , the variance will reduce."
   ]
  },
  {
   "cell_type": "code",
   "execution_count": 7,
   "id": "d77addd2",
   "metadata": {},
   "outputs": [],
   "source": [
    "# Q6. What kind of object can be shuffled by using random.shuffle?"
   ]
  },
  {
   "cell_type": "markdown",
   "id": "7562da8f",
   "metadata": {},
   "source": [
    "Random.shuffle can used to shuffle list object"
   ]
  },
  {
   "cell_type": "code",
   "execution_count": 8,
   "id": "ee9b394e",
   "metadata": {},
   "outputs": [],
   "source": [
    "# Q7. Describe the math package's general categories of functions."
   ]
  },
  {
   "cell_type": "code",
   "execution_count": 9,
   "id": "ee564eef",
   "metadata": {},
   "outputs": [],
   "source": [
    "# The general categories of math package are\n",
    "#       1) Trigonometric functions\n",
    "#       2)Quadratic functions\n",
    "#       3)Exponential functions\n",
    "#       4)Hyperbolic functions\n",
    "#       5)Periodic functions\n",
    "#       6)Arithmetic functions\n",
    "#       7)Logarithimic functions\n",
    "#       8)Conversions to Integer"
   ]
  },
  {
   "cell_type": "code",
   "execution_count": 10,
   "id": "a2a029fd",
   "metadata": {},
   "outputs": [],
   "source": [
    "# Q8. What is the relationship between exponentiation and logarithms?"
   ]
  },
  {
   "cell_type": "markdown",
   "id": "df14a198",
   "metadata": {},
   "source": [
    "The exponential function is given by ƒ(x) = ex, whereas the logarithmic function is given by g(x) = ln x, and \n",
    "former is the inverse of the latter."
   ]
  },
  {
   "cell_type": "code",
   "execution_count": 11,
   "id": "9f8c6ac2",
   "metadata": {},
   "outputs": [],
   "source": [
    "# Q9. What are the three logarithmic functions that Python supports?"
   ]
  },
  {
   "cell_type": "code",
   "execution_count": null,
   "id": "d1c07aa1",
   "metadata": {},
   "outputs": [],
   "source": [
    "#       1)log2(x) - logarithmic value of x to base 2\n",
    "#       2)log10(x) - logarithmic value of x to base 10\n",
    "#       3)log(x,base) - logarithmic value of x to base. If only first parameter is given , it computes its\n",
    "#       value tp base e,natural logarithm"
   ]
  }
 ],
 "metadata": {
  "kernelspec": {
   "display_name": "Python 3 (ipykernel)",
   "language": "python",
   "name": "python3"
  },
  "language_info": {
   "codemirror_mode": {
    "name": "ipython",
    "version": 3
   },
   "file_extension": ".py",
   "mimetype": "text/x-python",
   "name": "python",
   "nbconvert_exporter": "python",
   "pygments_lexer": "ipython3",
   "version": "3.9.7"
  }
 },
 "nbformat": 4,
 "nbformat_minor": 5
}
