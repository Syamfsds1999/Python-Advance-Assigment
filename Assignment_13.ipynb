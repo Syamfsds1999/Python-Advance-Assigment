{
 "cells": [
  {
   "cell_type": "code",
   "execution_count": 2,
   "id": "ec5c10ca",
   "metadata": {},
   "outputs": [],
   "source": [
    "# Q1. Can you create a programme or function that employs both positive and negative indexing? Is there any repercussion if you do so?"
   ]
  },
  {
   "cell_type": "markdown",
   "id": "a800f8b1",
   "metadata": {},
   "source": [
    "Python supports negative indexing of an iterable object. We can access the elements of a object from the end by indexes starting from -1, -2, -3... There is no repercussion if we use either positive or negative indexing."
   ]
  },
  {
   "cell_type": "code",
   "execution_count": 5,
   "id": "2b900490",
   "metadata": {},
   "outputs": [
    {
     "name": "stdout",
     "output_type": "stream",
     "text": [
      "abcdefg\n",
      "e\n",
      "cdefg\n",
      "def\n",
      "[1, 2, 3, 4, 5, 6, 7]\n",
      "5\n",
      "[3, 4, 5, 6, 7]\n",
      "[4, 5, 6]\n"
     ]
    }
   ],
   "source": [
    "def indexing(data, type):\n",
    "    if type == 'positive':\n",
    "        print(data[0:])\n",
    "        print(data[4])\n",
    "        print(data[2:len(data)])\n",
    "        print(data[3:len(data)-1])\n",
    "    if type == 'negative':\n",
    "        print(data[-2])\n",
    "        print(data[-1:0:-1])\n",
    "        print(data[-6:-2])\n",
    "        print(data[-3:-1])     \n",
    "    \n",
    "indexing(\"abcdefg\",'positive')\n",
    "indexing([1,2,3,4,5,6,7],'positive')   "
   ]
  },
  {
   "cell_type": "code",
   "execution_count": 4,
   "id": "809a7845",
   "metadata": {},
   "outputs": [],
   "source": [
    "# Q2. What is the most effective way of starting with 1,000 elements in a Python list? Assume that all elements should be set to the same value."
   ]
  },
  {
   "cell_type": "markdown",
   "id": "99b6ba7a",
   "metadata": {},
   "source": [
    "We can use * operator for this"
   ]
  },
  {
   "cell_type": "code",
   "execution_count": 7,
   "id": "06cd1c64",
   "metadata": {},
   "outputs": [
    {
     "name": "stdout",
     "output_type": "stream",
     "text": [
      "Length of the list is:: 100\n",
      "[12, 12, 12, 12, 12, 12, 12, 12, 12, 12, 12, 12, 12, 12, 12, 12, 12, 12, 12, 12, 12, 12, 12, 12, 12, 12, 12, 12, 12, 12, 12, 12, 12, 12, 12, 12, 12, 12, 12, 12, 12, 12, 12, 12, 12, 12, 12, 12, 12, 12, 12, 12, 12, 12, 12, 12, 12, 12, 12, 12, 12, 12, 12, 12, 12, 12, 12, 12, 12, 12, 12, 12, 12, 12, 12, 12, 12, 12, 12, 12, 12, 12, 12, 12, 12, 12, 12, 12, 12, 12, 12, 12, 12, 12, 12, 12, 12, 12, 12, 12]\n"
     ]
    }
   ],
   "source": [
    "my_list = [12] * 100\n",
    "print(\"Length of the list is::\",len(my_list))\n",
    "print(my_list)"
   ]
  },
  {
   "cell_type": "code",
   "execution_count": 9,
   "id": "08c02951",
   "metadata": {},
   "outputs": [],
   "source": [
    "# Q3. How do you slice a list to get any other part while missing the rest? (For example, suppose you want to make a new list with the elements first, third, fifth, seventh, and so on.)"
   ]
  },
  {
   "cell_type": "markdown",
   "id": "e52a9f2b",
   "metadata": {},
   "source": [
    "We use list slicing operations to acheive this."
   ]
  },
  {
   "cell_type": "code",
   "execution_count": 10,
   "id": "c6d0143c",
   "metadata": {},
   "outputs": [
    {
     "name": "stdout",
     "output_type": "stream",
     "text": [
      "[2, 4, 6, 8, 10, 12]\n"
     ]
    }
   ],
   "source": [
    "my_list = [1,2,3,4,5,6,7,8,9,10,11,12]\n",
    "\n",
    "new_list = my_list[1:len(my_list):2]\n",
    "\n",
    "print(new_list)"
   ]
  },
  {
   "cell_type": "code",
   "execution_count": 11,
   "id": "e1e000a5",
   "metadata": {},
   "outputs": [],
   "source": [
    "# Q4. Explain the distinctions between indexing and slicing."
   ]
  },
  {
   "cell_type": "markdown",
   "id": "5c945945",
   "metadata": {},
   "source": [
    "Indexing is the way of accessing a single element of the object by its index or position, where as, slicing enables us to access the sub parts of object. Slicing can be done using indexes."
   ]
  },
  {
   "cell_type": "code",
   "execution_count": 13,
   "id": "b266b8e9",
   "metadata": {},
   "outputs": [
    {
     "name": "stdout",
     "output_type": "stream",
     "text": [
      "[2, 4, 6, 8, 10]\n",
      "6\n"
     ]
    }
   ],
   "source": [
    "my_list = [1,2,3,4,5,6,7,8,9,10]\n",
    "\n",
    "new_list = my_list[1:len(my_list):2] # this is list sclicing.\n",
    "\n",
    "print(new_list)\n",
    "\n",
    "print(new_list[2]) # this is list indexing"
   ]
  },
  {
   "cell_type": "code",
   "execution_count": 14,
   "id": "9b9789b6",
   "metadata": {},
   "outputs": [],
   "source": [
    "# Q5. What happens if one of the slicing expression's indexes is out of range?"
   ]
  },
  {
   "cell_type": "markdown",
   "id": "64eff04e",
   "metadata": {},
   "source": [
    "The slicing operation doesn’t raise an error if one of the indices are out of range. This is in not in the case of indexing;if you index an element that is out of bounds, Python will throw an index out of bounds error. However, with slicing it simply returns an exisiting accessed elements. It stops accessing elements after the end of the object is reached."
   ]
  },
  {
   "cell_type": "code",
   "execution_count": 15,
   "id": "b519d845",
   "metadata": {},
   "outputs": [
    {
     "name": "stdout",
     "output_type": "stream",
     "text": [
      "[2, 4, 6, 8, 10]\n"
     ]
    }
   ],
   "source": [
    "print(new_list[0:12])"
   ]
  },
  {
   "cell_type": "code",
   "execution_count": 17,
   "id": "52b2f697",
   "metadata": {},
   "outputs": [],
   "source": [
    "# Q6. If you pass a list to a function, and if you want the function to be able to change the values of the list—so that the list is different after the function returns—what action should you avoid?"
   ]
  },
  {
   "cell_type": "markdown",
   "id": "12fdf7da",
   "metadata": {},
   "source": [
    "\n",
    "We should avoid passing the list as an argument in the function by value. If we do so, it will point to different memory location and will not be able alter the list."
   ]
  },
  {
   "cell_type": "code",
   "execution_count": 18,
   "id": "2d7c0a81",
   "metadata": {},
   "outputs": [],
   "source": [
    "# Q7. What is the concept of an unbalanced matrix?"
   ]
  },
  {
   "cell_type": "markdown",
   "id": "03460d1a",
   "metadata": {},
   "source": [
    "A matrix is balanced if all cells in the matrix are balanced and a cell of the matrix is balanced if the number of cells in that matrix that are adjacent to that cell is strictly greater than the value written in this cell. Adjacent cell means cells in the top, down, left, and right cell of each cell if it exists."
   ]
  },
  {
   "cell_type": "code",
   "execution_count": 19,
   "id": "98ce580c",
   "metadata": {},
   "outputs": [
    {
     "data": {
      "text/plain": [
       "matrix([[1, 2, 3],\n",
       "        [4, 5, 6],\n",
       "        [7, 8, 9]])"
      ]
     },
     "execution_count": 19,
     "metadata": {},
     "output_type": "execute_result"
    }
   ],
   "source": [
    "import numpy as np\n",
    "\n",
    "mat = np.matrix([[1, 2, 3],[4, 5, 6],[7, 8, 9]])\n",
    "mat \n",
    "\n",
    "# This is unbalanced matrix"
   ]
  },
  {
   "cell_type": "code",
   "execution_count": 20,
   "id": "e4b7301e",
   "metadata": {},
   "outputs": [],
   "source": [
    "# Q8. Why is it necessary to use either list comprehension or a loop to create arbitrarily large matrices?"
   ]
  },
  {
   "cell_type": "markdown",
   "id": "df2ed4ca",
   "metadata": {},
   "source": [
    "In Python 3, we can use numpy library to create large matrices instaed of list comprehension or a loop."
   ]
  },
  {
   "cell_type": "code",
   "execution_count": null,
   "id": "be5a58ea",
   "metadata": {},
   "outputs": [],
   "source": []
  }
 ],
 "metadata": {
  "kernelspec": {
   "display_name": "Python 3 (ipykernel)",
   "language": "python",
   "name": "python3"
  },
  "language_info": {
   "codemirror_mode": {
    "name": "ipython",
    "version": 3
   },
   "file_extension": ".py",
   "mimetype": "text/x-python",
   "name": "python",
   "nbconvert_exporter": "python",
   "pygments_lexer": "ipython3",
   "version": "3.9.7"
  }
 },
 "nbformat": 4,
 "nbformat_minor": 5
}
