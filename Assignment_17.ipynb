{
 "cells": [
  {
   "cell_type": "code",
   "execution_count": 2,
   "id": "f8a5b57f",
   "metadata": {},
   "outputs": [],
   "source": [
    "# Q1. Explain the difference between greedy and non-greedy syntax with visual terms in as few words as possible. What is the bare minimum effort required to transform a greedy pattern into a non-greedy one? What characters or characters can you introduce or change?"
   ]
  },
  {
   "cell_type": "code",
   "execution_count": 12,
   "id": "54e4e178",
   "metadata": {},
   "outputs": [
    {
     "name": "stdout",
     "output_type": "stream",
     "text": [
      "<Machine learning is the latest technology >  <Machine learning is advanced> <Machine learning is a future>\n"
     ]
    }
   ],
   "source": [
    "# Greedy version, Python matches the longest possible string\n",
    "import re\n",
    "text = \"<Machine learning is the latest technology >  <Machine learning is advanced> <Machine learning is a future>\"\n",
    "greedyregobj=re.compile(r'<.*>')\n",
    "match=greedyregobj.search(text)\n",
    "print(match.group())"
   ]
  },
  {
   "cell_type": "code",
   "execution_count": 14,
   "id": "3371778d",
   "metadata": {},
   "outputs": [
    {
     "data": {
      "text/plain": [
       "'<Machine learning is the latest technology >'"
      ]
     },
     "execution_count": 14,
     "metadata": {},
     "output_type": "execute_result"
    }
   ],
   "source": [
    "# Non-greedy version of the regex, Python matches the shortest possible string\n",
    "nongreedyregobj=re.compile(r'<Ma.*?>')\n",
    "match1=nongreedyregobj.search(text)\n",
    "match1.group()"
   ]
  },
  {
   "cell_type": "code",
   "execution_count": 15,
   "id": "25325242",
   "metadata": {},
   "outputs": [],
   "source": [
    "# Q2. When exactly does greedy versus non-greedy make a difference? What if you're looking for a non-greedy match but the only one available is greedy"
   ]
  },
  {
   "cell_type": "markdown",
   "id": "5eb1c301",
   "metadata": {},
   "source": [
    "In the non-greedy version of the regex, Python matches the shortest possible string. In the greedy version, \n",
    " Python matches the longest possible string. If only non greedy match is available, we can use other filtering \n",
    "    or pattern matching methods of regex and further identify the required pattern."
   ]
  },
  {
   "cell_type": "code",
   "execution_count": 16,
   "id": "cabb3e8e",
   "metadata": {},
   "outputs": [],
   "source": [
    "# Q3. In a simple match of a string, which looks only for one match and does not do any replacement, is the use of a nontagged group likely to make any practical difference?"
   ]
  },
  {
   "cell_type": "code",
   "execution_count": 18,
   "id": "367ce61a",
   "metadata": {},
   "outputs": [
    {
     "name": "stdout",
     "output_type": "stream",
     "text": [
      "Phone number found: 123\n",
      "Phone number found: 123\n"
     ]
    }
   ],
   "source": [
    "import re\n",
    "phoneNumRegex = re.compile(r'\\d\\d\\d')\n",
    "mo = phoneNumRegex.search('My number is 123-456-789.')\n",
    "print('Phone number found: ' + mo.group()) # non tagged group\n",
    "print('Phone number found: ' + mo.group(0))"
   ]
  },
  {
   "cell_type": "code",
   "execution_count": 19,
   "id": "35006493",
   "metadata": {},
   "outputs": [],
   "source": [
    "# Q4. Describe a scenario in which using a nontagged category would have a significant impact on the program's outcomes."
   ]
  },
  {
   "cell_type": "code",
   "execution_count": 21,
   "id": "6f91c0c2",
   "metadata": {},
   "outputs": [
    {
     "data": {
      "text/plain": [
       "('123', '123')"
      ]
     },
     "execution_count": 21,
     "metadata": {},
     "output_type": "execute_result"
    }
   ],
   "source": [
    "# Ans : Non tagged category :\n",
    "import re\n",
    "text='123.123'\n",
    "pattern=r'(\\d+)(?:.)(\\d+)'\n",
    "regobj=re.compile(pattern)\n",
    "matobj=regobj.search(text)\n",
    "matobj.groups()\n",
    "#  Here the '.' decimal is not tagged or captured.\n",
    "#  It will useful in scenarios where the separator of value in a string is of no use and we need to capture only the\n",
    "#  values."
   ]
  },
  {
   "cell_type": "code",
   "execution_count": 22,
   "id": "d1142537",
   "metadata": {},
   "outputs": [],
   "source": [
    "# Q5. Unlike a normal regex pattern, a look-ahead condition does not consume the characters it examines. Describe a situation in which this could make a difference in the results of your programme."
   ]
  },
  {
   "cell_type": "markdown",
   "id": "9242a2d8",
   "metadata": {},
   "source": [
    "While counting the number of multiple lines or mulytiple sentence in a string the positive look ahead makes a \n",
    "   difference, without which we wont get the correct count of lines or sentences in a string.\n"
   ]
  },
  {
   "cell_type": "code",
   "execution_count": 24,
   "id": "e9bbb092",
   "metadata": {},
   "outputs": [],
   "source": [
    "# Q6. In standard expressions, what is the difference between positive look-ahead and negative look-ahead?"
   ]
  },
  {
   "cell_type": "markdown",
   "id": "d5b306f3",
   "metadata": {},
   "source": [
    "   Positive look ahead is an assertion continuing the search and extending the string e.g.pattern= r'abc(?=[A-Z])''. \n",
    "      Here after 'abc', ? is extending the search and says that in the remaining string, first identify the next \n",
    "      charater should be capitalized character between A and Z, but doesnt consume it."
   ]
  },
  {
   "cell_type": "code",
   "execution_count": 1,
   "id": "d44cf7ef",
   "metadata": {},
   "outputs": [],
   "source": [
    "# Q7. What is the benefit of referring to groups by name rather than by number in a standard expression?"
   ]
  },
  {
   "cell_type": "markdown",
   "id": "60e7c5fe",
   "metadata": {},
   "source": [
    "The benifit of referring to the groups by name is that\n",
    "       1)The code is clear\n",
    "       2)It is easier to maimtain the code."
   ]
  },
  {
   "cell_type": "code",
   "execution_count": 2,
   "id": "cd6b7cf4",
   "metadata": {},
   "outputs": [],
   "source": [
    "# Q8. Can you identify repeated items within a target string using named groups, as in \"The cow jumped over the moon\"?"
   ]
  },
  {
   "cell_type": "code",
   "execution_count": 5,
   "id": "cf8a26d8",
   "metadata": {},
   "outputs": [
    {
     "data": {
      "text/plain": [
       "['The', 'the']"
      ]
     },
     "execution_count": 5,
     "metadata": {},
     "output_type": "execute_result"
    }
   ],
   "source": [
    "import re\n",
    "text = \"The cow jumped over the moon\"\n",
    "regobj=re.compile(r'(?P<w1>The)',re.I)\n",
    "regobj.findall(text)"
   ]
  },
  {
   "cell_type": "code",
   "execution_count": 6,
   "id": "0781ebb5",
   "metadata": {},
   "outputs": [],
   "source": [
    "# Q9. When parsing a string, what is at least one thing that the Scanner interface does for you that the re.findall feature does not?"
   ]
  },
  {
   "cell_type": "code",
   "execution_count": null,
   "id": "8eb653f2",
   "metadata": {},
   "outputs": [],
   "source": [
    "# Ans : re.search() method either returns None (if the pattern doesn’t match), or a re.MatchObject that contains\n",
    "        information about the matching part of the string. This method stops after the first match, so this is best\n",
    "        suited for testing a regular expression more than extracting data,whereas\n",
    "        Return all non-overlapping matches of pattern in string, as a list of strings. The string is scanned \n",
    "        left to right, and matches are returned in the order found."
   ]
  },
  {
   "cell_type": "code",
   "execution_count": 7,
   "id": "893d2f8f",
   "metadata": {},
   "outputs": [],
   "source": [
    "# Q10. Does a scanner object have to be named scanner?"
   ]
  },
  {
   "cell_type": "markdown",
   "id": "decc8429",
   "metadata": {},
   "source": [
    " The scanner object need not be named scanner. It may have any name."
   ]
  },
  {
   "cell_type": "code",
   "execution_count": null,
   "id": "1e27c17d",
   "metadata": {},
   "outputs": [],
   "source": []
  }
 ],
 "metadata": {
  "kernelspec": {
   "display_name": "Python 3 (ipykernel)",
   "language": "python",
   "name": "python3"
  },
  "language_info": {
   "codemirror_mode": {
    "name": "ipython",
    "version": 3
   },
   "file_extension": ".py",
   "mimetype": "text/x-python",
   "name": "python",
   "nbconvert_exporter": "python",
   "pygments_lexer": "ipython3",
   "version": "3.9.7"
  }
 },
 "nbformat": 4,
 "nbformat_minor": 5
}
